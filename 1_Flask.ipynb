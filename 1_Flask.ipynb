{
 "cells": [
  {
   "cell_type": "markdown",
   "id": "a8aaea22",
   "metadata": {},
   "source": [
    "## Difference between GET & POST method"
   ]
  },
  {
   "cell_type": "raw",
   "id": "17fd4b88",
   "metadata": {},
   "source": [
    "1. Data is visible in URL  1. Data is not displayed in url \n",
    "\n",
    "2. Deafult method          2. envoke this method\n",
    "\n",
    "3. support only string data type(explicitly need to mention when othr than string dtype used) 3. support differnet data type [string, numreic, binary](no need to explicitly mention)\n",
    "\n",
    "4. less secure compare POST  4. It more secured compared get method \n",
    "\n",
    "5. MAX URL 2048 char         5. No restriction \n",
    "\n",
    "*** NOTE : Never use GET when sending password or any sensitive information. "
   ]
  },
  {
   "cell_type": "markdown",
   "id": "ff71ceb6",
   "metadata": {},
   "source": [
    "##  HTTP Status Codes :"
   ]
  },
  {
   "cell_type": "code",
   "execution_count": null,
   "id": "edd72237",
   "metadata": {},
   "outputs": [],
   "source": [
    "\n",
    "(What is status code:- Server send responce to client or user side)\n",
    "\n",
    "200-299 - Successful Response\n",
    "300-399 - Redirection Messages\n",
    "400-499 - client error messages\n",
    "500-599 - Server Error Messages\n",
    "\n",
    "# Most Common Code \n",
    "\n",
    "200 - The request is succeded  **\n",
    "301 - Moved permanently\n",
    "400 - Bad request **\n",
    "401 - Unauthorised **\n",
    "404 - page not found ** \n",
    "405 - Method not allowed \n",
    "408 - Request time out \n",
    "413 - Payload too large\n",
    "429 - Too many request \n",
    "500 - Internal Server Error **\n",
    "503 - Service Unavialable  ***"
   ]
  },
  {
   "cell_type": "markdown",
   "id": "bca86945",
   "metadata": {},
   "source": [
    "## flask request object in python"
   ]
  },
  {
   "cell_type": "markdown",
   "id": "e0ee1a93",
   "metadata": {},
   "source": [
    "In a Flask App, we have our own Webpage (Client) and a Server. The Server should process the data.  The Request, in Flask, is an object that contains all the data sent from the Client to Server. This data can be recovered using the GET/POST Methods. POST is used when your application expects user input to be received by command or an HTTP request, while GET gets all the information before it even has a chance for submission. Using both methods at once gives perfect freedom but still requires complex UI patterns like AJAX calls etc, with most common applications being frameworks where multiple forms are necessary such as Slack Webhooks, MailgunMailserver, and eCommerce Commerce Framework. With Flask-Request class instead, we don’t have any need anymore since this API allows us flexible handling of many other situations.\n",
    "\n",
    "There are various attributes associated with the request objects. They are Form, Cookies, Args, Files, and Method. \n",
    "\n",
    "1.form :- The form is used to create and return the form data from other application codes like JSP API or POST. This attribute allows you to specify predefined custom parameters when creating HTTP requests for your service (like “GET /info” ) which can be given as string values without any format validation etc. \n",
    "\n",
    "2.cookies :- The cookies property contains cookie contents that will allow the client to access a piece of information about users’ details through the Cookie header field of returned JSON Object Content Type Information.\n",
    "\n",
    "3.args :- args is used to initialize a Request constructor which you have given as a parameter of the class. \n",
    "\n",
    "4.Files:- files are used to refer to file data stored in the user’s cookies (whereas a method is an HTTP API for accessing those files). Actions can be chained together so as far it goes you will need different Actions when calling other methods by default like POST /items/:id or GET /API. So if we want to add multiple items to the item list then there must also be some additional actions on both end-points that do something similar and which cannot be handled easily using form objects alone – eg create a new “form” from existing ones, etc. \n",
    "\n",
    "5.methos :- The method is used to create a new form element or an existing one via custom URL configuration.\n",
    "  \n",
    "  OR\n",
    "  \n",
    "1.Form:\tIt is the dictionary object which contains the key-value pair of form parameters and their values.\n",
    "\n",
    "2.args:\tIt is parsed from the URL. It is the part of the URL which is specified in the URL after question mark (?).\n",
    "\n",
    "3.Cookies:\tIt is the dictionary object containing cookie names and the values. It is saved at the client-side to track the user session.\n",
    "\n",
    "4.files:It contains the data related to the uploaded file.\n",
    "\n",
    "5.method:It is the current request method (get or post).\n",
    "\n"
   ]
  },
  {
   "cell_type": "code",
   "execution_count": null,
   "id": "542416e7",
   "metadata": {},
   "outputs": [],
   "source": [
    "## Form data retrieval on the template:\n",
    "\n",
    "In the following example, the / URL renders a web page customer.html that contains a form which is used to take the \n",
    "customer details as the input from the customer.\n",
    "\n",
    "The data filled in this form is posted to the /success URL which triggers the print_data() function. The print_data() \n",
    "function collects all the data from the request object and renders the result_data.html file which shows all the data \n",
    "on the web page.\n",
    "\n",
    "The application contains three files, i.e., script.py, customer.html, and result_data.html.\n",
    "\n",
    "### Script.py file\n",
    "\n",
    "from flask import *  \n",
    "app = Flask(__name__)  \n",
    "  \n",
    "@app.route('/')  \n",
    "def customer():  \n",
    "   return render_template('customer.html')  \n",
    "  \n",
    "@app.route('/success',methods = ['POST', 'GET'])  \n",
    "def print_data():  \n",
    "   if request.method == 'POST':  \n",
    "      result = request.form  \n",
    "      return render_template(\"result_data.html\",result = result)  \n",
    "   \n",
    "if __name__ == '__main__':  \n",
    "   app.run(debug = True)  \n",
    "   \n",
    "   \n",
    "### customer.html file\n",
    "\n",
    "<html>  \n",
    "   <body>  \n",
    "       <h3>Register the customer, fill the following form.</h3>  \n",
    "      <form action = \"http://localhost:5000/success\" method = \"POST\">  \n",
    "         <p>Name <input type = \"text\" name = \"name\" /></p>  \n",
    "         <p>Email <input type = \"email\" name = \"email\" /></p>  \n",
    "         <p>Contact <input type = \"text\" name = \"contact\" /></p>  \n",
    "         <p>Pin code <input type =\"text\" name = \"pin\" /></p>  \n",
    "         <p><input type = \"submit\" value = \"submit\" /></p>  \n",
    "      </form>  \n",
    "   </body>  \n",
    "</html> \n",
    "\n",
    "\n",
    "### result_data.html file\n",
    "\n",
    "<!doctype html>  \n",
    "<html>  \n",
    "   <body>  \n",
    "      <p><strong>Thanks for the registration. Confirm your details</strong></p>  \n",
    "      <table border = 1>  \n",
    "         {% for key, value in result.items() %}  \n",
    "            <tr>  \n",
    "               <th> {{ key }} </th>  \n",
    "               <td> {{ value }} </td>  \n",
    "            </tr>  \n",
    "         {% endfor %}  \n",
    "      </table>  \n",
    "   </body>  \n",
    "</html>  "
   ]
  },
  {
   "attachments": {
    "image.png": {
     "image/png": "[encoded data removed]"
    }
   },
   "cell_type": "markdown",
   "id": "e34e52d0",
   "metadata": {},
   "source": [
    "To run this application, we must first run the script.py file using the command python script.py. This will start the development server on localhost:5000 which can be accessed on the browser as given below.\n",
    "\n",
    "![image.png](attachment:image.png)\n"
   ]
  },
  {
   "attachments": {
    "image.png": {
     "image/png": "[encoded data removed]"
    }
   },
   "cell_type": "markdown",
   "id": "197900ac",
   "metadata": {},
   "source": [
    "Now, hit the submit button. It will transfer to the /success URL and shows the data entered at the client.\n",
    "\n",
    "![image.png](attachment:image.png)"
   ]
  },
  {
   "cell_type": "raw",
   "id": "4238b8bd",
   "metadata": {},
   "source": [
    "## How to create database connection to server\n",
    "\n",
    "1. Create a connection to database \n",
    "(how to create my_sql database connection to python:-firstely download mysql connector for python,for downloading mysql connctor firstely run a command in command prompt-- pip install mysql-connector-python)\n",
    "2. Create cursor object \n",
    "3. execute the query with cursor object \n",
    "4. commit the changes \n",
    "5. close the connection"
   ]
  },
  {
   "cell_type": "code",
   "execution_count": null,
   "id": "6186ba81",
   "metadata": {},
   "outputs": [],
   "source": []
  },
  {
   "cell_type": "code",
   "execution_count": null,
   "id": "56aa17c0",
   "metadata": {},
   "outputs": [],
   "source": []
  },
  {
   "cell_type": "code",
   "execution_count": null,
   "id": "4d1c1cc9",
   "metadata": {},
   "outputs": [],
   "source": []
  },
  {
   "cell_type": "code",
   "execution_count": null,
   "id": "e5bc171b",
   "metadata": {},
   "outputs": [],
   "source": []
  },
  {
   "cell_type": "code",
   "execution_count": null,
   "id": "77c094c8",
   "metadata": {},
   "outputs": [],
   "source": []
  },
  {
   "cell_type": "code",
   "execution_count": null,
   "id": "fc3fe1eb",
   "metadata": {},
   "outputs": [],
   "source": []
  },
  {
   "cell_type": "code",
   "execution_count": null,
   "id": "fd4218f3",
   "metadata": {},
   "outputs": [],
   "source": []
  },
  {
   "cell_type": "code",
   "execution_count": null,
   "id": "46ccacc5",
   "metadata": {},
   "outputs": [],
   "source": []
  },
  {
   "cell_type": "code",
   "execution_count": null,
   "id": "dd92c3a0",
   "metadata": {},
   "outputs": [],
   "source": []
  },
  {
   "cell_type": "code",
   "execution_count": null,
   "id": "014f247b",
   "metadata": {},
   "outputs": [],
   "source": []
  },
  {
   "cell_type": "code",
   "execution_count": null,
   "id": "00953728",
   "metadata": {},
   "outputs": [],
   "source": []
  },
  {
   "cell_type": "code",
   "execution_count": null,
   "id": "4fa51d66",
   "metadata": {},
   "outputs": [],
   "source": []
  },
  {
   "cell_type": "code",
   "execution_count": null,
   "id": "fe6c7bbd",
   "metadata": {},
   "outputs": [],
   "source": []
  },
  {
   "cell_type": "code",
   "execution_count": null,
   "id": "fe5660b5",
   "metadata": {},
   "outputs": [],
   "source": []
  },
  {
   "cell_type": "code",
   "execution_count": null,
   "id": "b8c90baf",
   "metadata": {},
   "outputs": [],
   "source": []
  },
  {
   "cell_type": "code",
   "execution_count": null,
   "id": "d47e59d2",
   "metadata": {},
   "outputs": [],
   "source": []
  },
  {
   "cell_type": "code",
   "execution_count": null,
   "id": "786793dc",
   "metadata": {},
   "outputs": [],
   "source": []
  },
  {
   "cell_type": "code",
   "execution_count": null,
   "id": "d7e4b12a",
   "metadata": {},
   "outputs": [],
   "source": []
  },
  {
   "cell_type": "code",
   "execution_count": null,
   "id": "8870b607",
   "metadata": {},
   "outputs": [],
   "source": []
  },
  {
   "cell_type": "code",
   "execution_count": null,
   "id": "7f5a0ce9",
   "metadata": {},
   "outputs": [],
   "source": []
  },
  {
   "cell_type": "code",
   "execution_count": null,
   "id": "e6d8df7f",
   "metadata": {},
   "outputs": [],
   "source": []
  },
  {
   "cell_type": "code",
   "execution_count": null,
   "id": "b3b95e4e",
   "metadata": {},
   "outputs": [],
   "source": []
  },
  {
   "cell_type": "code",
   "execution_count": null,
   "id": "fc339eb4",
   "metadata": {},
   "outputs": [],
   "source": []
  }
 ],
 "metadata": {
  "kernelspec": {
   "display_name": "Python 3 (ipykernel)",
   "language": "python",
   "name": "python3"
  },
  "language_info": {
   "codemirror_mode": {
    "name": "ipython",
    "version": 3
   },
   "file_extension": ".py",
   "mimetype": "text/x-python",
   "name": "python",
   "nbconvert_exporter": "python",
   "pygments_lexer": "ipython3",
   "version": "3.9.18"
  }
 },
 "nbformat": 4,
 "nbformat_minor": 5
}
